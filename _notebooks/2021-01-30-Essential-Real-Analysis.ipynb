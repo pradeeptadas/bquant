{
 "cells": [
  {
   "source": [
    "# Real Analysis\n",
    "> Notes which are important.\n",
    "\n",
    "- toc: true \n",
    "- badges: true\n",
    "- comments: true\n",
    "- categories: [interview, puzzle]\n",
    "- image: images/logo.JPG\n",
    "- layout: post\n",
    "- author: \"<a href='https://twitter.com/HamelHusain'>Hamel Husain</a> & <a href='https://twitter.com/jeremyphoward'>Jeremy Howard</a>\"\n",
    "- permalink: /ghtop"
   ],
   "cell_type": "markdown",
   "metadata": {}
  },
  {
   "source": [
    "<b>Relation</b>\n",
    "\n",
    "Subset of product set $R \\subset A \\times B$"
   ],
   "cell_type": "markdown",
   "metadata": {}
  },
  {
   "cell_type": "markdown",
   "metadata": {},
   "source": [
    "**Function**\n",
    "\n",
    "Relation on $A \\times B$, such that A related to B. It can be onto / one-to-one / bijection."
   ]
  },
  {
   "cell_type": "markdown",
   "metadata": {},
   "source": [
    "**Convergence**\n",
    "\n",
    "We know the cauchy sequence, 1.2, 1.22, 1.222, ... .\n",
    "But Does this converge? To generalize this concept, we have to introduct Metric space."
   ]
  },
  {
   "cell_type": "markdown",
   "metadata": {},
   "source": [
    "**Metric Space**\n",
    "\n",
    "It has the distance function. with triangle inequality. \n",
    "\n",
    "It has the concept of Convergence which means $\\forall \\epsilon>0, ~~ \\exists N: n \\geq N \\implies d(x_n, x) < \\epsilon$\n",
    "\n",
    "Similarly, cauchy sequence means $\\forall \\epsilon > 0, ~~ M \\geq N, \\implies d(x_n, x) < \\epsilon$. This is weaker concept than convergence and it has no reference point like convergence. \n",
    "\n",
    "In complete metric spaces, cauchy sequence converges as well. \n",
    "\n",
    "For example, $1, 1.41, 1.414, ... \\rightarrow \\sqrt{2}$ is a cachy sequency in $\\mathbb{Q}$ but converges in $\\mathbb{R}$"
   ]
  },
  {
   "cell_type": "markdown",
   "metadata": {},
   "source": [
    "**Vector Space**\n",
    "\n",
    "Metric space gives abstract space for distance. \n",
    "Similarly, this is abstract space for vector operation. \n",
    "\n",
    "It has $\\times : F \\times V \\rightarrow V$ (F is called field here)\n",
    "It also has $+ : V + V \\rightarrow V$\n"
   ]
  },
  {
   "cell_type": "markdown",
   "metadata": {},
   "source": [
    "**Normed Space**\n",
    "Vector + Metric Space (with \"norm\" distance function)\n",
    "\n",
    "norm funcion $\\parallel \\cdot \\parallel$: $V \\rightarrow \\mathbb{R}_+$\n",
    "\n",
    "Norm makes V into special metric space since $d(u, v) = \\parallel u-v \\parallel$ satisfies axioms of metric space. \n",
    "\n",
    "$\\boxed{\\text{Complete norm space is called Banach Space.}}$"
   ]
  },
  {
   "cell_type": "markdown",
   "metadata": {},
   "source": [
    "**Inner Product Space**\n",
    "Vector Space with inner product\n",
    "\n",
    "$<\\cdot, \\cdot>: V \\times V \\rightarrow \\mathbb{R}$\n",
    "\n",
    "This is a special case of normed space $\\implies \\parallel u \\parallel = \\sqrt{<u, v>}$\n",
    "\n",
    "$\\boxed{\\text{Complete inner product space is called Hilbert Space.}}$\n",
    "\n",
    "Inner product space adds the concept of angles. \n",
    "\n",
    "$\\frac{<u, v>}{\\parallel u \\parallel \\parallel v \\parallel} = cos \\phi$"
   ]
  },
  {
   "cell_type": "markdown",
   "metadata": {},
   "source": []
  }
 ],
 "metadata": {
  "kernelspec": {
   "display_name": "Python 3",
   "language": "python",
   "name": "python3"
  },
  "language_info": {
   "codemirror_mode": {
    "name": "ipython",
    "version": 3
   },
   "file_extension": ".py",
   "mimetype": "text/x-python",
   "name": "python",
   "nbconvert_exporter": "python",
   "pygments_lexer": "ipython3",
   "version": "3.7.9"
  }
 },
 "nbformat": 4,
 "nbformat_minor": 4
}