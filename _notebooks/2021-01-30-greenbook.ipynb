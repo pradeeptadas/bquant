{
 "cells": [
  {
   "cell_type": "markdown",
   "metadata": {},
   "source": [
    "# Brain Teasers\n",
    "> My notes from the green book.\n",
    "\n",
    "- toc: true \n",
    "- badges: true\n",
    "- comments: true\n",
    "- categories: [interview, puzzle]\n",
    "- image: images/logo.JPG"
   ]
  },
  {
   "cell_type": "markdown",
   "metadata": {},
   "source": [
    "# 2.1\n",
    "\n",
    "1. **Screwy Pirates** - go from the end. For any 2n+1 pirate case, most senior will offer pirates 1, 3, .. 2n-1 one coin each and keep rest himself.\n",
    "\n",
    "2. **Tiger and Sheep** If the number of tigers is odd, the sheep will be eaten. Otherwise, not.\n",
    "\n",
    "# 2.2 \n",
    "\n",
    "3. **River Crossing** A - 10 mins, B - 5mins, C - 2mins, D - 1mins. Min time to cross the river. Key points is that 10 and 5 should go together. C & D go first, 2 mins. A and B go across. C and D cross again. \n",
    "\n",
    "\n",
    "4. **Birthday Problem** Mar 4, 5, 8. Jun 4, 7. Sep 1, 5. Dec 1, 2, 8. A told you month of birthday and to C his day. After that you said \"I don't know A's birth day; C doesn't know it either.\" --> This means Dec and Jun are eliminated as they have unique dates. After hearing this C told \"I didn't know A's birthday but now I know it.\" Means that (Mar) 4, (Mar, Sep) 5, (Mar) 8, (Sep) 1. Means the date is unique. So, Mar/Sep 5 is eliminated. You then smiled and told \"Now I know it too.\" So month is also unique. So its Sep 1. \n",
    "\n",
    "5. **Card Game** 52 cards. 2 cards at a time. Both black -> dealer's pile. Both red -> your pile. 1 each -> discarded. If you have more cards in pile then you win 100$. Else you get nothing. Howmuch you will pay to play the game? -- Discarded cards have equal red or black. So,dealer will have same red as you. So, you will never win.\n",
    "\n",
    "6. **Burning ropes** 2 ropes which take 1hr each to burn. Different densities. How to use to measure 45 mins. Light both ends of first rope to get 30mins. In the sametime light one end of second rope. After first rope is completed, burn the other end of 2nd rope as well to get 15mins. \n",
    "\n",
    "7. **Defective ball** 12 identical balls. One of the balls is heavier or lighter than the rest. How to determine which is defective with 3 measurements? - Separate the original group into three sets. Comparison of two gives info about third. So, 3^n balls can be done in n steps. If you dont have any info about ball is lighter or lower, then in n measurements, you can identify the ball in (3^n - 3)/2 balls. \n",
    "\n",
    "8. **Trailing Zeros** Trailing zeros in 100!. Freq of 2 is more than 5. So count 5. 100/5 + 100/25. = 24. \n",
    "\n",
    "9. **Horse race** 25 horses. 5 can race at a time. 3 fastest horses. Howmany races? 5 races to get faster in each group. Then race amongst them. Then accordingly race another round. So 3 rounds. \n",
    "\n",
    "10. **Infinite Sequence** x^x^... = 2 $\\implies x^2 = 2 \\implies x = \\sqrt{2}$\n",
    "\n",
    "# 2.3\n",
    "\n",
    "11.\n",
    "\n"
   ]
  },
  {
   "cell_type": "code",
   "execution_count": null,
   "metadata": {},
   "outputs": [],
   "source": []
  }
 ],
 "metadata": {
  "kernelspec": {
   "display_name": "Python 3",
   "language": "python",
   "name": "python3"
  },
  "language_info": {
   "codemirror_mode": {
    "name": "ipython",
    "version": 3
   },
   "file_extension": ".py",
   "mimetype": "text/x-python",
   "name": "python",
   "nbconvert_exporter": "python",
   "pygments_lexer": "ipython3",
   "version": "3.7.9"
  }
 },
 "nbformat": 4,
 "nbformat_minor": 4
}
