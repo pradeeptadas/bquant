{
 "cells": [
  {
   "source": [
    "# Math: High Dimensional Data\n",
    "> Notes.\n",
    "\n",
    "- toc: true \n",
    "- badges: true\n",
    "- comments: true\n",
    "- categories: [math]\n",
    "- image: images/logo.JPG\n",
    "- layout: post\n",
    "- author: \"<a href='https://pradeeptadas.github.io/'>Pradeepta Das</a>\"\n",
    "- permalink: /ghtop"
   ],
   "cell_type": "markdown",
   "metadata": {}
  },
  {
   "source": [
    "We have a need to understand the high dimensional data to find the low dimensional representation, to classify data points, and to predict out-of-sample data points. \n",
    "\n",
    "Some methods about which I have written blogs are \n",
    "- OLS\n",
    "- SVD\n",
    "- PCA\n",
    "- LDA"
   ],
   "cell_type": "markdown",
   "metadata": {}
  },
  {
   "cell_type": "markdown",
   "metadata": {},
   "source": [
    "Now we will talk about $L_p$ optimization! ($p \\geq 1$)"
   ]
  },
  {
   "cell_type": "markdown",
   "metadata": {},
   "source": [
    "$L_2$ is nice because we have the Hilbert Space property! For p >1, all the $L_p$ are norm spaces. They all differ by the distance function we choose. Its like what type of glass we put on. They also signifiy which type of distance to give more weight to. Some glasses are sensitive to a certain type of distances. \n",
    "\n",
    "\n",
    "In the below figure (from strang's book), for the 2-norm, the circle is the level set and it is the closest level set to the origin. This point is not same for the L1 norm. For l1, sum of x and y coordinate has to be same. \n",
    "L-1 norm is much less interested in balancing x and y coordinates like L2. it just looks at the sum. So, intuitively it puts more weight on the y-coordinate because its coeeficient is 4. So, this leads to a sparse solution. \n",
    "\n",
    "For the $L_\\infty$ is completely opposite to $L1$. It is completely balancing both the coordinates. So, the solution comes at the location where x=y. \n",
    "\n",
    "\n",
    "\n",
    "<div style=\"text-align:center\"><img src=\"../images/lp-optimization.JPG\"/></div>"
   ]
  },
  {
   "cell_type": "markdown",
   "metadata": {},
   "source": [
    "<ins>**Why L1 norm?**</ins>\n",
    "\n",
    "Let's say we have noisy data, and we want to do OLS. There are some extreme outliers.  \n",
    "$min_c ||y = cx ||_p$\n",
    "\n",
    "Because L2 norm wants to balance out between all the points. (because the square of the outlier error will contribute largely). So the line will be tilted towards the outlier. If we do L_inf then there will be even more correction towards the outlier. \n",
    "\n",
    "In this case, the L1 norm will not care about the outlier. It will chose to remain closer to most of the points at the cost of being distant from the outlier.\n",
    "\n",
    "Its a bit tricky to solve L1 problem though in recenet years there are research on this. L1 is a concave optimization problem so it is not that much difficult as well. \n",
    "\n",
    "L1 is sparse and is useful if you have extremely large dataset (maybe be a billion dimention space). So you would want to put some extra costs to having many many non-zero parameters. L1 will find a sparse structure. "
   ]
  },
  {
   "cell_type": "markdown",
   "metadata": {},
   "source": [
    "We can take this even further. If we take the $0<p<1$, the optimization is still valid but the $||a-b||_p$ is no longer a distance function. Because the triangle inequality fails!\n",
    "\n",
    "$$ ||1, 1||_p = 2^{1/p} > 2 =  ||1, 0||_p + ||0, 1||_p $$\n",
    "\n",
    "This means that the property that we are familiar with i.e. \"shortest distance between two points is a straight line\" breaks down. \n",
    "\n",
    "So if you want to go from (0,0) to (1,1) -- we wont travel in a straight line. We will go to (0,1) and then to (1, 1). This is very exotic space. Mathematically we will have to move to topological vector spaces which is more advanced than the so familiar metric spaces. \n",
    "\n",
    "<ins>**Why we are interested?**</ins>\n",
    "\n",
    "The smaller it gets, the sparser the solution is. So there is a very huge penalty for the small numbers. So we can see that in the limiting case the level sets becomes very degenrate i.e. the only thing it cares about is having as less non-zero coefficients.\n",
    "\n",
    "For L_0 case, it is exactly becomes a minimizing the non-zero components in the estimation. The level sets are the axes. **But historically, it has been a NP-Hard problem to solve this optimization.** There is no steepest descent you can use to solve this extremely non-concave optimization. \n",
    "\n",
    "<div style=\"text-align:center\"><img src=\"../images/lp-optimization2.JPG\"/></div>"
   ]
  },
  {
   "cell_type": "markdown",
   "metadata": {},
   "source": [
    "So it turns out, L1 optimization gives  avery good approximation for L0 optimization. \n",
    "\n",
    "Below figure shows how the norms vary with x. For L1, the minima is at x=0. and it keeps on shifting right side with increment of p upto 1/7. For p < 1, it shoots up when x is non-zero.  \n",
    "\n",
    "<div style=\"text-align:center\"><img src=\"../images/lp-optimization3.JPG\"/></div>\n",
    "\n",
    "\n",
    "Basis pursuit is L1, LASSO is joint L2 and L1 where we minimize the joint case. But as both are concave, we would be able to generate efficient solutions.  "
   ]
  },
  {
   "cell_type": "code",
   "execution_count": 16,
   "metadata": {},
   "outputs": [],
   "source": [
    "#hide\n",
    "from scipy.optimize import minimize\n",
    "import numpy as np\n",
    "\n",
    "def fit(X, params):\n",
    "    # 3d Plane Z = aX + bY + c\n",
    "    return X.dot(params[:2]) + params[2]\n",
    "\n",
    "def cost_function(params, X, y):\n",
    "    # L1- norm\n",
    "    return np.sum(np.abs(y - fit(X, params)))"
   ]
  },
  {
   "cell_type": "code",
   "execution_count": 15,
   "metadata": {},
   "outputs": [
    {
     "name": "stdout",
     "output_type": "stream",
     "text": [
      "Intercept    14.952480\n",
      "B             0.401182\n",
      "C             0.000352\n",
      "dtype: float64\n"
     ]
    }
   ],
   "source": [
    "#hide\n",
    "import pandas as pd\n",
    "import statsmodels.formula.api as sm\n",
    "df = pd.DataFrame({\"A\": [10,20,30,40,50], \n",
    "                   \"B\": [20, 30, 10, 40, 50], \n",
    "                   \"C\": [32, 234, 23, 23, 42523]})\n",
    "result = sm.ols(formula=\"A ~ B + C\", data=df).fit()\n",
    "print(result.params)"
   ]
  }
 ],
 "metadata": {
  "kernelspec": {
   "display_name": "Python 3.9.2 64-bit",
   "language": "python",
   "name": "python39264bitf0c69d3624df4f3fa391f03fecc7ad1c"
  },
  "language_info": {
   "codemirror_mode": {
    "name": "ipython",
    "version": 3
   },
   "file_extension": ".py",
   "mimetype": "text/x-python",
   "name": "python",
   "nbconvert_exporter": "python",
   "pygments_lexer": "ipython3",
   "version": "3.9.2-final"
  }
 },
 "nbformat": 4,
 "nbformat_minor": 4
}