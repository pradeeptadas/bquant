{
 "cells": [
  {
   "cell_type": "markdown",
   "metadata": {},
   "source": [
    "# Integration\n",
    "> Notes.\n",
    "\n",
    "- toc: true \n",
    "- badges: true\n",
    "- comments: true\n",
    "- categories: [math]\n",
    "- image: images/logo.JPG\n",
    "- layout: post\n",
    "- author: \"<a href='https://pradeeptadas.github.io/'>Pradeepta Das</a>\"\n",
    "- permalink: /ghtop"
   ]
  },
  {
   "cell_type": "markdown",
   "metadata": {},
   "source": [
    "Integration is area under graph. \n",
    "\n",
    "## Reimann / Darboux Integral\n",
    "\n",
    "Assume a bounded function $f: [a,b] \\rightarrow \\mathbb{R}$\n",
    "Here we partition the interval into smaller ones. For that we choose finite sequence of points $a = x_0 \\leq x_1 \\leq x_2 .. x_n = b$\n",
    "\n",
    "How given the partition define, \n",
    "\n",
    "$$M_i = {sup}_{x_{i-1} \\leq x \\leq x_i f(x)}$$\n",
    "$$m_i = {inf}_{x_{i-1} \\leq x \\leq x_i f(x)}$$ \n",
    "$$\\Delta x_i = x_i - x_{i+1}$$\n",
    "$$U(P, f) = \\sum_i M_i \\Delta x_i$$\n",
    "$$L(P, f) = \\sum_i m_i \\Delta x_i$$\n",
    "\n",
    "<div style=\"text-align:center\"><img src=\"../images/integral.JPG\" /></div>\n",
    "\n",
    "Now we define an uppper integral $\\int_{a}^{b} inf_{P} U(P, f)$  - which is infimum over all partitions of the sums that we get for a specific partition. (i.e. make finer partitions as well, and sum. Over all such parititon sums, take the minumum one). Similarly lower integral - $\\int_{a}^{b} sup_{P} L(P, f)$ \n",
    "\n",
    "If f is bounded from below and above in [a,b], then both the upper and lower integral exists. They converge but might converge to different numbers!\n",
    "\n",
    "But $\\int_{a}^{b} sup_{P} L(P, f)  \\leq \\int_{a}^{b} inf_{P} U(P, f)$\n",
    "So this says that the lower sum is less than equal to upper sum. This will exists in limit as well. \n"
   ]
  },
  {
   "cell_type": "markdown",
   "metadata": {},
   "source": [
    "\n",
    "- <ins>Reimann Integral</ins> says that, if both these integrals are the same then the Reimann integral exists. \n",
    "\n",
    "$$\\int_{a}^{b} f(x) dx = \\int_{a}^{b} sup_{P} L(P, f)  = \\int_{a}^{b} inf_{P} U(P, f)$$\n",
    "\n",
    "- If f is bounded on [a,b] and continuous except for a finite number of points, \n",
    "then f is Riemann integrable, $f \\in R$\n",
    "\n",
    "- This intuition is captured by the above image. Becase as partition becomes very high, then both will converge to the same number. \n",
    "\n",
    "- For the finite number of discontinuity - intuition is that because we are shiriking the partitions to very small, then it will converge to the same number. "
   ]
  },
  {
   "cell_type": "markdown",
   "metadata": {},
   "source": [
    "**Integration and Sequences**\n",
    "\n",
    "If we have a sequence of functions $f_n : [a, b] \\rightarrow \\mathbb{R}$ is said to converge uniformly to the function f if $f_n \\rightarrow d_c f$ i.e. if it converges in the supremum norm. \n",
    "\n",
    "$d_c$ is the norm / distant function. \n",
    "$d_c (f_1, f_2) = || f_1 - f_2 ||_{dc} = sup_{x \\in [a, b]} |f_1 - f_2|$. \n",
    "\n",
    "i.e. supremum norm is the maximum distance between $f_1$ and $f_2$ in the interval [a,b]\n",
    "\n",
    "<div style=\"text-align:center\"><img src=\"../images/supremum-norm.JPG\" /></div>\n",
    "\n",
    "- This is stronger than pointwise convergence. This is similar as we had discussed about uniform and pointwise continutity. \n",
    "\n",
    "- Pointwise: we chose x and check if the functions are converging at that point to f. i.e. $\\forall x ~~~ \\forall \\epsilon > 0  ~~~ \\exists n: |f_n(x) - f(x)| < \\epsilon $ Here we are allowed to chose n based on x. \n",
    "\n",
    "\n",
    "- Uniform convergence:  Here we choose n and that should be valid for all x. $\\forall \\epsilon > 0 ~~~ \\exists n ~~~\\forall x: |f_n(x) - f(x)| < \\epsilon $\n",
    "\n",
    "\n",
    "- We want to check if <ins> we can switch the order of integration and limit </ins>. Theorem says that, \n",
    "\n",
    "- If $f_n$ is a Reimann, for each n and $f_n$ converges uniformly to f, then\n",
    "\n",
    "$$ lim_{n \\rightarrow \\infty} \\int_a^b f_n(x) dx =  \\int_a^b lim_{n \\rightarrow \\infty} f_n(x) dx = \\int_a^b f(x) dx $$\n",
    "\n",
    "- This doesn't hold for regular pointwise convergence. "
   ]
  },
  {
   "cell_type": "markdown",
   "metadata": {},
   "source": [
    "**Why do we need uniform convergence? Any counter-example?**\n",
    "\n",
    "Example is <div style=\"text-align:center\"><img src=\"../images/counter-seq-int.JPG\" /></div>\n",
    "\n",
    "\n",
    "Doubt:  How is f_n pointwise converging here? what is the f?"
   ]
  },
  {
   "cell_type": "markdown",
   "metadata": {},
   "source": [
    "### Fundamental Theorem of Calculus\n",
    "\n",
    "If $f \\in R$ (Reimann Integrable) on [a,b] and if there is a differentiable function $F$ on [a, b], fuch that $F' = f$, then \n",
    "\n",
    "$$ \\int_a^b f(x) dx = F(b) - F(a)$$\n",
    "\n",
    "F is a primitive function (anti-derivative) of f. \n",
    "\n",
    "This leads to <ins>Integration by parts</ins>: $\\int_b^b F(x) g(x) dx = F(b)G(b) - F(a)G(a) - \\int_a^b f(x) G(x) dx$\n",
    "\n",
    "$\\implies \\int_a^b \\frac{\\partial}{\\partial x} (F \\cdot G) dx = F \\cdot G |_a^b$"
   ]
  },
  {
   "cell_type": "markdown",
   "metadata": {},
   "source": [
    "## Properties that hold almost everywhere\n",
    "\n",
    "Lebesgue integral is more general than the Riemann integral. This is based on Measure theory. A lot of function's area is not defined by Reimann. So we define Lebesgue integral for those cases. But here that route is not taken. But we will use measure-zero property which is common in lebesgue integral. "
   ]
  },
  {
   "cell_type": "markdown",
   "metadata": {},
   "source": [
    "<ins>almost everywhere</ins>: \n",
    "\n",
    "Consider a set $A \\subset \\mathbb{R} $. $B = \\cup_{i=1}^{\\infty} (a_i, b_i)~~~$   (Union of open intervals is open) - is an open cover of $A$ if $A \\subset B$\n",
    "\n",
    "What is the size of A? - its going to be less than equal to the total size of all such intervals. i.e. \n",
    "- If the intervals $(a_i, b_i)$ are disjoint, then their total lenth is $L(B) = \\sum_i (b_i - a_i)$\n",
    "- If the intervals are not disjoint, then their total length is less than $L(B)$\n",
    "\n",
    "\n",
    "The set $A$ is of <ins>measure zero</ins> if for any $\\epsilon > 0$, there is an open cover, $B_{\\epsilon}$ of A, such that $L(B_{\\epsilon}) \\leq \\epsilon$. \n",
    "\n",
    "A function, $f : \\mathbb{R} \\rightarrow \\mathbb{R}$ has a property (e.g., being positive) almost everywhere if the property is not satisfied on a set measure zero. \n",
    "\n",
    "Why it is useful?\n",
    "Properties that fail on zero measure, i.e. properties that hold almost everywhere, they are enough for whatever you want to hold. We don't have to require the function to be true everywhere, as long as they are true almost everywhere. \n",
    "\n",
    "Classical example for which the property fails. -> \n",
    "f(x) = 1 for $x \\in \\mathbb{Q}$, 0 otherwise\n",
    "$\\mathbb{Q}$ is of the form p/q. \n",
    "\n",
    "The set of rational number is dense in the set of real numbers, it will contain a lot of 1's and 0's. But this is zero almost everywhere. \n",
    "\n",
    "We can show it by showing measure zero. Choose $B_i = (x_i - \\epsilon / 4 2^{-i}, x_i + \\epsilon / 4 2^{-i})$\n",
    "\n",
    "So it shows that the set Q has meaure zero. So, function f is zero almost everywhere because it fails to have the property in zero measure. \n",
    "\n",
    "<div style=\"text-align:center\"><img src=\"../images/almost-everywhere.JPG\" /></div>\n",
    "\n",
    "\n",
    "This is not reimann. So the lower is always 0 and upper is 1. Because there are rational and non-rational numbers in any interval. "
   ]
  },
  {
   "cell_type": "markdown",
   "metadata": {},
   "source": [
    "**Necessary and sufficient Condition to be Riemann**\n",
    "\n",
    "The bounded function f is Riemann integrable on [a,b] <ins>if and only if</ins> f is almost everywhere continuous on [a,b].\n",
    "\n",
    "Sufficient condition for a function to be reimann is f has to be bounded on [a, b] and has to be continuous except for at a finite number of points. \n",
    "\n",
    "The finite discontinuous points would be in zero measure, so it would be covered in the first condition above in the necessary and sufficient condition. Also the infinite number of ups and downs has to be zero measure. In the example of $1$ if $x \\in \\mathbb{Q}$ is not really finitely discontinuous. So its not Reimann.  \n",
    "\n",
    "The failure of Reimann is not so much important why we need Ito. "
   ]
  },
  {
   "cell_type": "markdown",
   "metadata": {},
   "source": [
    "## Riemann-Stieltjes Integral\n",
    "\n",
    "Its a generalisation of Riemann. \n",
    "\n",
    "\n",
    "We assume bounded $f : [a, b] \\rightarrow \\mathbb{R}$, partition, $M_i$, $m_i$. But instead of $\\Delta x_i$ we use $\\Delta \\alpha_i = \\alpha(x_i) - \\alpha(x_{i-1})$\n",
    "\n",
    "\n",
    "- If $\\alpha$ is a smooth function: $\\alpha(x_{i}+\\Delta x_i) - \\alpha(x_{i}) = \\alpha(x_{i}) +\\Delta x_i \\alpha'(x_{i}) - \\alpha(x_{i}) = \\Delta x_i \\alpha'(x_{i})$. This is the first order approx. So, the derivative of $\\alpha$ is what governs the integral. \n",
    "\n",
    "\n",
    "- So the definition now is similar to Reimann. but instead of $dx$ use $d\\alpha$. If upper and lower integral match, then $f \\in R(\\alpha)$. If $\\alpha(x) = x$, it is same as Reimann. \n",
    "\n",
    "- If f moves around a lot in short interval, then it is difficult for $m_i$ to conervge to same number. For Stieltjes, $\\alpha$ too has to be same property i.e. its moving around a lot will make the integral undefined. \n",
    "\n",
    "\n",
    "## Holder Continuity\n",
    "\n",
    "Now we want to define the continuity. It extends to functions which are differentiable as well as not differentiable. A function , $f$, is locally holder continuous with exponent $\\alpha \\in [0,1]$ if, \n",
    "\n",
    "$$ \\frac{|f(t+h)-f(t)|}{|h|^{\\alpha}} \\leq C \\leq \\infty$$\n",
    "\n",
    "- For regular derivative, we define $\\alpha = 1$. If we allow $\\alpha$ to be $< 1$, then as $h \\rightarrow 0$, the $h^{\\alpha}$ will not tend to zero as quickly because $\\alpha$ will slow it down. So it is easier for the ratio to be finite. \n",
    "\n",
    "- The larger $\\alpha$, the stronger the condition. \n",
    "\n",
    "- $\\alpha = 0.5$ is for brownian motion. They are not smooth enough to be differentiable. But they are not completely differentiable!\n",
    "\n",
    "\n",
    "Failure of an extension of Riemann-Stieltjes Integral is what leads us to Ito calculus!"
   ]
  },
  {
   "cell_type": "markdown",
   "metadata": {},
   "source": [
    "**Coming back to Stieltjes Integral**\n",
    "- If $\\alpha$ differentiable, $\\int f d\\alpha = \\int f \\alpha' dx$, i.e. just the inegration is scaled with $\\alpha'$\n",
    "\n",
    "$$\\int \\alpha d\\alpha = \\int \\alpha \\alpha' dx = \\int_a^b \\frac{1}{2} \\frac{d}{dx} \\alpha^2 (x) |_a^b = \\frac{\\alpha^2 (b)}{2} - \\frac{\\alpha^2 (a)}{2} $$\n",
    "\n",
    "## Young's theorem \n",
    "\n",
    "It says that the joint codition of $f$ and $\\alpha$ with exponents $a$, $b$ respectively, $a+b>1$ then $f \\in R(\\alpha)$ i.e. Stieltjes integral. "
   ]
  },
  {
   "cell_type": "markdown",
   "metadata": {},
   "source": [
    "Examples:\n",
    "    \n",
    "  $$f(x) = e^x, \\alpha(x) = \\theta(x- 1/2) \\theta~~~\\text{is heavyside}~~~$$\n",
    "  $d\\alpha = 0$ if $$\n",
    "  \n",
    "  Answer is $e^{\\frac{1}{2}}$\n",
    "So, this integral is more useful than riemann. This is another reason why the stiltzer equation is important!"
   ]
  },
  {
   "source": [
    "Tree is generally stable because \n",
    "\n",
    "P = \\frac{1}{2}(1+mu/sigma^2 sqrt(T/N))"
   ],
   "cell_type": "markdown",
   "metadata": {}
  },
  {
   "source": [
    "Stochastic Dominance: \n",
    "\n",
    "\n"
   ],
   "cell_type": "markdown",
   "metadata": {}
  }
 ],
 "metadata": {
  "kernelspec": {
   "display_name": "Python 3",
   "language": "python",
   "name": "python3"
  },
  "language_info": {
   "codemirror_mode": {
    "name": "ipython",
    "version": 3
   },
   "file_extension": ".py",
   "mimetype": "text/x-python",
   "name": "python",
   "nbconvert_exporter": "python",
   "pygments_lexer": "ipython3",
   "version": "3.7.9"
  }
 },
 "nbformat": 4,
 "nbformat_minor": 4
}