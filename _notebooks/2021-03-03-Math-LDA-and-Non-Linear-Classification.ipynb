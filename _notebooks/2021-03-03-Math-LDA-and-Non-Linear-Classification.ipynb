{
 "cells": [
  {
   "cell_type": "markdown",
   "metadata": {},
   "source": [
    "# LDA (Linear Discriminant Analysis)\n",
    "> Notes.\n",
    "\n",
    "- toc: true \n",
    "- badges: true\n",
    "- comments: true\n",
    "- categories: [math]\n",
    "- image: images/logo.JPG\n",
    "- layout: post\n",
    "- author: \"<a href='https://pradeeptadas.github.io/'>Pradeepta Das</a>\"\n",
    "- permalink: /ghtop"
   ]
  },
  {
   "cell_type": "markdown",
   "metadata": {},
   "source": [
    "M data obervations, each in $\\mathbb{R}^N$. i.e. $x \\in \\mathbb{R}^N, m = 1, ..., M$\n",
    "\n",
    "We know that observations come from two types of points. A-points and B-points. \n",
    "\n",
    "Both points are normally distributed and different variance-covariance matrices. \n",
    "\n",
    "For the points, we have to classify each of them belong to type-A or type-B i.e. $t^{'}_m \\in {A, B}$\n",
    "\n",
    "\n",
    "minimize the likelihood:\n",
    "\n",
    "\n",
    "min $\\alpha^A\\mathbb{P}(t^{'} = A | t=B) + \\alpha^B\\mathbb{P}(t^{'} =B | t=A)$\n",
    "\n",
    "\n",
    "So we want to find two subplanes separated by a hyperplane. One side is type A and one is type B.\n",
    "i.e. find $v \\in \\mathbb{R}^N$ and $c \\in \\mathbb{R}$ such that \n",
    "- $v^T x^m < c \\implies t^{'} = A$\n",
    "- $v^T x^m > c \\implies t^{'} = B$\n"
   ]
  },
  {
   "cell_type": "markdown",
   "metadata": {},
   "source": [
    "For a 1-D case, probability of misclassifying A is $1 - \\Phi(\\frac{c-\\mu_A}{\\sigma_A})$. \n",
    "\n",
    "Similarly, for misclassifying B is $\\Phi(\\frac{c-\\mu_B}{\\sigma_B})$. \n",
    "\n",
    "We want to minimize this probability. \n"
   ]
  },
  {
   "cell_type": "markdown",
   "metadata": {},
   "source": [
    "## Proof \n",
    "\n",
    "Without loss of generality $v = 1$"
   ]
  },
  {
   "cell_type": "markdown",
   "metadata": {},
   "source": [
    "$c = \\frac{\\sigma^2_B}{\\sigma^2_A + \\sigma^2_B} \\mu_A + \\frac{\\sigma^2_A}{\\sigma^2_A + \\sigma^2_B} \\mu_B$"
   ]
  },
  {
   "cell_type": "markdown",
   "metadata": {},
   "source": [
    "For multivariate case, \n",
    "\n",
    "\n",
    "$v = (\\Sigma_A+\\Sigma_B)^{-1} $"
   ]
  },
  {
   "cell_type": "markdown",
   "metadata": {},
   "source": [
    "For linear discriminant analysis we generally assume $\\Sigma_A = \\Sigma_B$.  For this case $\\alpha_A = \\alpha_B = 1$, so same weight on A and B misclassification. \n",
    "\n",
    "\n",
    "We generally go for Quadratic Discriminant Analysis (QDA) when $\\Sigma_A \\neq \\Sigma_B$. "
   ]
  },
  {
   "cell_type": "markdown",
   "metadata": {},
   "source": [
    "# Nonlinear Classification Problem"
   ]
  },
  {
   "cell_type": "markdown",
   "metadata": {},
   "source": [
    "For the non-linear data, LDA is not a suitable method as we cant find a line to separate these. \n",
    "\n",
    "<div style=\"text-align:center\"><img src=\"../images/non-linear-classification.JPG\" /></div>"
   ]
  },
  {
   "cell_type": "markdown",
   "metadata": {},
   "source": [
    "Here, Machine Learning comes into play! \n",
    "In linear case, we try to increase the dimensionality for more complex problems. But in Machine learning it does the simple thing over and over again.\n",
    "\n",
    "Lets consider a nonlinear approximation $$ (Ax + b)_+.$$ Here the nonlinear operation is $(x)_+$. It's a ReLU operator. We do this elementwise on the vector and then we sum the vectors by multiplying with $1$ vector. $F = \\textbf{1'F}$ These are not so nice because they are piece-wise linear but not continuously differentiable. \n",
    "\n",
    "For different A and B, we will get very different level sets. So, by iterating again and again we can generate a continuous function! Piece-wise linearity and continuity kept, regardless of N. Is it continuously diffentiable? \n",
    "\n",
    "Basically this is what the neural network optimization does! \n",
    "\n"
   ]
  }
 ],
 "metadata": {
  "kernelspec": {
   "display_name": "Python 3",
   "language": "python",
   "name": "python3"
  },
  "language_info": {
   "codemirror_mode": {
    "name": "ipython",
    "version": 3
   },
   "file_extension": ".py",
   "mimetype": "text/x-python",
   "name": "python",
   "nbconvert_exporter": "python",
   "pygments_lexer": "ipython3",
   "version": "3.7.9"
  }
 },
 "nbformat": 4,
 "nbformat_minor": 4
}