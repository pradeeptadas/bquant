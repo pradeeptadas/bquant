{
 "cells": [
  {
   "source": [
    "# ODE Basics\n",
    "- categories: [basic-math]"
   ],
   "cell_type": "markdown",
   "metadata": {}
  },
  {
   "source": [
    "## Difference Equation\n",
    "\n",
    "It defines how an elements in a sequence are related. \n",
    "\n",
    "Consider $y : \\mathbb{N} \\rightarrow \\mathbb{R}$ defined by the recursive relations. \n",
    "\n",
    "$$y_1 = c$$\n",
    "$$y_{n+1} = ay_n$$\n",
    "\n",
    "$$ \\implies \\boxed{y_n = a^{n-1}c}$$\n",
    "\n",
    "This is 1st order homogeneous linear difference equation."
   ],
   "cell_type": "markdown",
   "metadata": {}
  },
  {
   "cell_type": "markdown",
   "metadata": {},
   "source": [
    "**Similarly for kth order:** \n",
    "    \n",
    "- Law of motion: $$y_{n+k} + a_{k-1}y_{n+k-1} + ... a_0 y_n = 0 $$\n",
    "\n",
    "\n",
    "- Initial Conditions for the law of motions: (k initials). $y_0 = c_0, ... y_{k-1} = c_{k-1}$ to compute the initial $y_{n+k}$\n",
    "\n",
    "- a's are law of motions. c's are initial conditions. \n",
    "\n"
   ]
  },
  {
   "cell_type": "markdown",
   "metadata": {},
   "source": [
    "**2nd Order**\n",
    "\n",
    "We have the characteristic equation $r^2 + a_1 r + a_0 = 0$\n",
    "\n",
    "Roots can be \n",
    "- real and distict $\\implies y_n = A(r_+)^n + B(r_-)^n$\n",
    "- real and same $\\implies y_n = A(r)^n + Bn(r)^n$\n",
    "- complex $\\implies y_n = A(r)^n cos(n\\theta) + Bn(r)^n sin(n \\theta)$ "
   ]
  },
  {
   "cell_type": "markdown",
   "metadata": {},
   "source": [
    "## Ordinary Differential Equation (ODEs)\n",
    "\n",
    "$$ y' = f(y, x) $$\n",
    "$$ y(0) = c $$\n",
    "\n",
    "\n"
   ]
  },
  {
   "cell_type": "markdown",
   "metadata": {},
   "source": [
    "- When the differential equation is solution?\n",
    "- Is it unique?\n",
    "- When depends continuously on parameters? - this is important from numerical perspective!- because $y_p$ might be very different from $y_{p+\\epsilon}$\n",
    "\n",
    "\n",
    "Lets compare with linear equation. \n",
    "$y = Ax$\n",
    " - A invertible $\\implies$ unique solution\n",
    " - not invertible $\\implies$ no / infinite solutions\n",
    "\n",
    "This carries over to linear ODEs.   \n",
    "\n",
    "\n",
    "### Picard's Theorem\n",
    "Consider the first order ODE: $\\frac{dy}{dt} = f(t, y(t))$, $y(t_0) = y_0$. Givem that f is Lipschitz continuous (i.e. Holder with exponent 1) in y and continuous in t. Then there exists a unique solution to the ODE in a neighbourhood of $t+0$."
   ]
  }
 ],
 "metadata": {
  "kernelspec": {
   "name": "python3",
   "display_name": "Python 3.9.2 64-bit ('python@3.9')"
  },
  "language_info": {
   "codemirror_mode": {
    "name": "ipython",
    "version": 3
   },
   "file_extension": ".py",
   "mimetype": "text/x-python",
   "name": "python",
   "nbconvert_exporter": "python",
   "pygments_lexer": "ipython3",
   "version": "3.9.2"
  },
  "interpreter": {
   "hash": "50292dbb1f747f7151d445135d392af3138fb3c65386d17d9510cb605222b10b"
  }
 },
 "nbformat": 4,
 "nbformat_minor": 4
}