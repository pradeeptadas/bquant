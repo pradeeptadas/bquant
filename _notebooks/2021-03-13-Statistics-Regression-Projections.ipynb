{
 "cells": [
  {
   "cell_type": "markdown",
   "metadata": {},
   "source": [
    "# Projections"
   ]
  },
  {
   "source": [
    "To fully understand the linear model we will develop a geometric interpretation.\n",
    "\n",
    "- When <x, z> = 0, then $cos(\\theta) = 0$ and $x$, $z$ are orthogonal.\n",
    "\n",
    "- Any vector $y \\in \\mathbb{R}^n$ can be written as $y = \\hat{y} + y^{\\perp}$, where $\\hat{y} \\in S, y^{\\perp} \\in S^{\\perp}$\n",
    "\n",
    "- $\\hat{y}$ is the projection of $y$ on $S$\n",
    "\n",
    "- Matrices P and M such that $Py = \\hat{y}, My = y^{\\perp}$\n"
   ],
   "cell_type": "markdown",
   "metadata": {}
  },
  {
   "cell_type": "markdown",
   "metadata": {},
   "source": [
    "How to compute P and M? \n",
    "\n",
    "$$P = X(X'X)^{-1}X'$$\n",
    "$$M = I - P = I - X(X'X)^{-1}X'$$"
   ]
  },
  {
   "cell_type": "markdown",
   "metadata": {},
   "source": [
    "$PX = X $\n",
    "\n",
    "$MX = 0$ \n",
    "\n",
    "P and M are symmetric and idempodent.\n",
    "P and M are orthogonal $PM = 0$"
   ]
  },
  {
   "cell_type": "markdown",
   "metadata": {},
   "source": [
    "Lets connect this to regression now. \n",
    "\n",
    "$y = \\hat{y} + y^{\\perp}$\n",
    "$\\implies \\hat{y}' + y^{\\perp} = 0$\n",
    "$\\implies E(\\hat{y}y^{\\perp}) = 0$\n",
    "\n",
    "\n",
    "**Connection to BLP**\n",
    "\n",
    "\n",
    "- Recall that for BLP: $y = x' \\beta + e$ and $E(xe) = 0$\n",
    "\n",
    "- BLP is equivalent to a projection of the dependent variable $y$ on the linear space spanned by the independent variables $x$! The error term is perpendicular to this."
   ]
  },
  {
   "cell_type": "markdown",
   "metadata": {},
   "source": [
    "For OLS:\n",
    "\n",
    "\n",
    "$\\beta = (X' X)^{-1}X'y$\n",
    "\n",
    "$\\hat{y} = Py$\n",
    "\n",
    "$\\hat{e} = My$"
   ]
  },
  {
   "cell_type": "markdown",
   "metadata": {},
   "source": [
    "## Least Squares as a Linear Projection!\n",
    "\n",
    "\n"
   ]
  }
 ],
 "metadata": {
  "kernelspec": {
   "display_name": "Python 3",
   "language": "python",
   "name": "python3"
  },
  "language_info": {
   "codemirror_mode": {
    "name": "ipython",
    "version": 3
   },
   "file_extension": ".py",
   "mimetype": "text/x-python",
   "name": "python",
   "nbconvert_exporter": "python",
   "pygments_lexer": "ipython3",
   "version": "3.7.9"
  }
 },
 "nbformat": 4,
 "nbformat_minor": 4
}