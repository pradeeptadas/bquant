{
 "cells": [
  {
   "cell_type": "markdown",
   "metadata": {},
   "source": [
    "# CEF - Conditional Expectation Function \n",
    "\n",
    "$E(y|x_1,....,x_k) = m(x_1, ..., x_k)$\n",
    "\n",
    "E(y|**x**) is a random variable.\n",
    "\n",
    "Assume variables (y, **x**) are continuously distributed with joint density f(y, **x**).\n",
    "\n",
    "The variable x then has marginal density $$ f_x(\\textbf{x}) = \\int f(y, \\textbf{x}) dy$$\n",
    "\n",
    "Conditional density of y given $\\textbf{x}$ is \n",
    "\n",
    "$$ f_{y|\\textbf{x}} (y|\\textbf{x}) = \\frac{f(y, \\textbf{x})}{f_x(\\textbf{x})}$$\n",
    "\n",
    "\n",
    "\n",
    "So, CEF of y given x is $m(\\textbf{x}) = E(y|\\textbf{x}) = \\int yf_{y|\\textbf{x}}(y|\\textbf{x})dy$"
   ]
  },
  {
   "cell_type": "markdown",
   "metadata": {},
   "source": [
    "### Theorem Law of Iterated Expectations\n",
    "If $E(|y|) < \\infty$, then for any random variable $\\textbf{x}$:\n",
    "$$E(E(y|\\textbf{x})) = E(y)$$\n",
    "\n",
    "\n",
    "### General Law of Iterated Expectations\n",
    "If $E(|y|) < \\infty$, then for any random variable $\\textbf{x}_1$, $\\textbf{x}_2$:\n",
    "$$ E(E(y|\\textbf{x}_1, \\textbf{x}_2)|\\textbf{x}_1) = E(y|\\textbf{x}_1)$$\n",
    "\n",
    "\n",
    "### Conditioning Theorem\n",
    "If $E(|g(\\textbf{x})y|) < \\infty$, \n",
    "\n",
    "$$ E(g(\\textbf{x})y|\\textbf{x}) = g(\\textbf{x}) E(y|\\textbf{x})$$\n",
    "\n",
    "and \n",
    "\n",
    "$$ E(g(\\textbf{x})y) = E(g(\\textbf{x}) E(y|\\textbf{x}))$$"
   ]
  },
  {
   "cell_type": "markdown",
   "metadata": {},
   "source": [
    "## CEF Error\n",
    "\n",
    "The CEF error e is the differnce between y and CEF $m(\\textbf{x})$: $e = y - m(x)$ \n",
    "\n",
    "$E(e|\\textbf{x}) = E(y-m(\\textbf{x}) | \\textbf{x}) = E(y|\\textbf{x}) - m(\\textbf{x}) = 0$\n",
    "\n",
    "Law of Iterated expectations shows more!:\n",
    "$E(e) = E(E(e|\\textbf{x})) = E(0) = 0$\n",
    "\n",
    "For any $h(\\textbf{x})$ : $E(h(\\textbf{x})e) = 0$\n",
    "\n",
    "Any predictor $g(x)$ is the CEF if and only if: $ E(e_g| \\textbf{x}) = 0$\n",
    "\n",
    "\n",
    "Example: Intercept Model:\n",
    "Here $m(x)$ is a constant $ = E(y) = \\mu$\n",
    "\n",
    "\n",
    "### Variance of the CEF Error\n",
    "\n",
    "If we didnt observe x, m(x) would be a constant which is mean of y i.e. $E(y)$. But given that we observe x, it gives a lot more information to us. $m(x)$ is a function of x and we can predict how y would behave with different x. \n",
    "\n",
    "How can we measure how much extra information x is giving? Ans: by computing variance of error. If there is less variance, then more information in x. High variance means less information in x. The variance measures the variation in y that is not explained by the conditional mean $E(y|x)$. \n",
    "\n",
    "$Var(e) = E((e- E(e))^2) = E(e^2)$. The error variance depends on x. Because, \n",
    "lets say 2 models:\n",
    "\n",
    "$y = E(y|x_1) + e_1$\n",
    "\n",
    "$y = E(y|x_1, x_2) + e_2$\n",
    "\n",
    "$\\implies \\sigma_1^2 \\neq \\sigma_2^2$\n",
    "\n",
    "\n",
    "Theorem: $Var(y) \\geq Var(y - E(y|x_1))$ (more info $\\implies$ less variance)\n",
    "\n",
    "\n",
    "**<ins>Example</ins>**\n",
    "- Suppose z = (x, y) are jointly normal with zero means $\\mu = (0, 0)'$ and covariance matrix\n",
    "\n",
    "$$ \\Sigma = \\begin{pmatrix}\n",
    "1 & \\rho \\\\\n",
    "\\rho & 1\n",
    "\\end{pmatrix} $$\n",
    "\n",
    "The CEF of y given x is $E(y|x) = m(x) = \\rho x $\n",
    "\n",
    "The variance of CEF error is $Var(e) = 1 - \\rho^2$"
   ]
  },
  {
   "cell_type": "markdown",
   "metadata": {},
   "source": [
    "## Best Predictor\n",
    "\n",
    "Best predictor $g(x)$ is one that minimize the MSE = $E(y - g(x))^2$\n",
    "\n",
    "The CEF $m(x)$, regardless of the joint distribution of $(y, \\textbf{x})$, minimizes the MSE! \n",
    "\n",
    " \n",
    "The conditional variance of y given x is \n",
    "$$ \\sigma^2(y|\\textbf{x}) = \\sigma^2(\\textbf{x}) = Var(y|\\textbf{x}) = E((y - E(y|x))^2|x)= E(e^2|\\textbf{x})$$\n",
    "\n",
    "For the above example, if the correlation is 1, the conditional variance of (y|\\textbf{x}) is 0! \n",
    "\n",
    "Conditional variance is how much info is left in y after we remove **x**. \n",
    "\n",
    "The unconditional variance of the error is teh average of conditional variance. \n",
    "$\\sigma^2 = E(e^2) = E(E(e^2|\\textbf{x})) = E(\\sigma^2(\\textbf{x}))$\n",
    "\n",
    "\n",
    "\n",
    "\n",
    "Any multivariate rv $z = (y, x)$ can be decomposed as: \n",
    "$$ y = m(x) + \\sigma(x) \\epsilon $$\n",
    "\n",
    "Where, $m(x) = E(y|x), \\epsilon = \\frac{e}{\\sigma(x)}, E(\\epsilon|x) = 0,  Var(\\epsilon|x) = 0$\n",
    "\n",
    "Often conditional variance is ignored. "
   ]
  },
  {
   "cell_type": "markdown",
   "metadata": {},
   "source": [
    "$\\sigma(x) = \\sigma =$ const then it is homoskedasticity. If teh volatility of error is not constant then heteroskedastcity. "
   ]
  },
  {
   "cell_type": "markdown",
   "metadata": {},
   "source": [
    "## CEF Derivative\n",
    "\n",
    "How does CEF vary with small change in x? \n",
    "The marginal effect of $x_1$ is \n",
    "\n",
    "$$ \\Delta_1 m(\\textbf{x}) = \\frac{\\partial}{\\partial x_1} m(x_1, ..., x_k)$$\n",
    "\n",
    "note that this derivative doesnt measure change in y, but change in the conditional expectation of y. \n",
    "\n",
    "Summary: $m(x)$ minimizes MSE. $E(e|x) = 0; E(e) = 0; y = m(x) + \\sigma(x) \\epsilon$\n",
    "\n",
    "CEF can be non-linear. So, next is to understand, how to get a linear regressor? "
   ]
  },
  {
   "cell_type": "markdown",
   "metadata": {},
   "source": [
    "Similarly, CEF: $E(e|\\textbf{x}) = 0 <=> E(e|x_j)$\n",
    "    \n",
    "$E(e|x)$ implies $E(xe) = 0$\n",
    "\n",
    "So CEF is more powerful than BLP. And both are examples of moment estimators."
   ]
  }
 ],
 "metadata": {
  "kernelspec": {
   "display_name": "Python 3",
   "language": "python",
   "name": "python3"
  },
  "language_info": {
   "codemirror_mode": {
    "name": "ipython",
    "version": 3
   },
   "file_extension": ".py",
   "mimetype": "text/x-python",
   "name": "python",
   "nbconvert_exporter": "python",
   "pygments_lexer": "ipython3",
   "version": "3.7.9"
  }
 },
 "nbformat": 4,
 "nbformat_minor": 4
}
